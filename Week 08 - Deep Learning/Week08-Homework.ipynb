{
 "cells": [
  {
   "cell_type": "markdown",
   "metadata": {},
   "source": [
    "# Dogs vs Cats Classification"
   ]
  },
  {
   "cell_type": "markdown",
   "metadata": {},
   "source": [
    "This is an image classification task of classifying dogs and cats. <br />\n",
    "Dataset can be downloaded from [here](https://www.kaggle.com/c/dogs-vs-cats/data) <br />\n",
    "Please split dataset (both cat & dog label) into different folders, take the 1st 10k images of each label to train and the rest go to validation. <br />"
   ]
  },
  {
   "cell_type": "code",
   "execution_count": null,
   "metadata": {},
   "outputs": [],
   "source": []
  },
  {
   "cell_type": "code",
   "execution_count": 1,
   "metadata": {},
   "outputs": [
    {
     "name": "stderr",
     "output_type": "stream",
     "text": [
      "Using TensorFlow backend.\n"
     ]
    }
   ],
   "source": [
    "import os, glob\n",
    "import numpy as np\n",
    "import pandas as pd\n",
    "from PIL import Image\n",
    "from sklearn.preprocessing import LabelEncoder\n",
    "from sklearn.model_selection import train_test_split\n",
    "from keras.utils import to_categorical\n",
    "from keras.preprocessing.image import load_img, ImageDataGenerator\n",
    "from keras.models import Sequential\n",
    "from keras.layers import Conv2D, MaxPooling2D, Dropout, Flatten, Dense\n",
    "from keras.optimizers import SGD"
   ]
  },
  {
   "cell_type": "code",
   "execution_count": null,
   "metadata": {},
   "outputs": [],
   "source": []
  },
  {
   "cell_type": "code",
   "execution_count": 18,
   "metadata": {},
   "outputs": [],
   "source": [
    "train_datagen = ImageDataGenerator(rescale=1./255,\n",
    "                                    rotation_range=40,\n",
    "                                    width_shift_range=0.2,\n",
    "                                    height_shift_range=0.2,\n",
    "                                    shear_range=0.2,\n",
    "                                    zoom_range=0.2,\n",
    "                                    horizontal_flip=True,\n",
    "                                    fill_mode='nearest')\n",
    "val_datagen = ImageDataGenerator(rescale=1./255)"
   ]
  },
  {
   "cell_type": "code",
   "execution_count": 19,
   "metadata": {},
   "outputs": [
    {
     "name": "stdout",
     "output_type": "stream",
     "text": [
      "Found 20000 images belonging to 2 classes.\n"
     ]
    }
   ],
   "source": [
    "train_gen = train_datagen.flow_from_directory(\"train/\",\n",
    "                                             target_size=(150,150),\n",
    "                                             batch_size=20,\n",
    "                                             class_mode=\"binary\")"
   ]
  },
  {
   "cell_type": "code",
   "execution_count": 20,
   "metadata": {},
   "outputs": [
    {
     "name": "stdout",
     "output_type": "stream",
     "text": [
      "Found 5000 images belonging to 2 classes.\n"
     ]
    }
   ],
   "source": [
    "val_gen = val_datagen.flow_from_directory(\"validation\",\n",
    "                                             target_size=(150,150),\n",
    "                                             batch_size=20,\n",
    "                                             class_mode=\"binary\")"
   ]
  },
  {
   "cell_type": "code",
   "execution_count": 21,
   "metadata": {},
   "outputs": [
    {
     "name": "stdout",
     "output_type": "stream",
     "text": [
      "(20, 150, 150, 3) (20,)\n"
     ]
    }
   ],
   "source": [
    "for data_batch, labels_batch in train_gen:\n",
    "    print(data_batch.shape, labels_batch.shape)\n",
    "    break"
   ]
  },
  {
   "cell_type": "code",
   "execution_count": null,
   "metadata": {},
   "outputs": [],
   "source": []
  },
  {
   "cell_type": "code",
   "execution_count": 22,
   "metadata": {},
   "outputs": [
    {
     "name": "stdout",
     "output_type": "stream",
     "text": [
      "Model: \"sequential_2\"\n",
      "_________________________________________________________________\n",
      "Layer (type)                 Output Shape              Param #   \n",
      "=================================================================\n",
      "conv2d_2 (Conv2D)            (None, 148, 148, 32)      896       \n",
      "_________________________________________________________________\n",
      "max_pooling2d_2 (MaxPooling2 (None, 74, 74, 32)        0         \n",
      "_________________________________________________________________\n",
      "flatten_2 (Flatten)          (None, 175232)            0         \n",
      "_________________________________________________________________\n",
      "dense_3 (Dense)              (None, 64)                11214912  \n",
      "_________________________________________________________________\n",
      "dense_4 (Dense)              (None, 1)                 65        \n",
      "=================================================================\n",
      "Total params: 11,215,873\n",
      "Trainable params: 11,215,873\n",
      "Non-trainable params: 0\n",
      "_________________________________________________________________\n"
     ]
    }
   ],
   "source": [
    "model = Sequential()\n",
    "model.add(Conv2D(32, (3,3), activation=\"relu\", input_shape=(150,150,3)))\n",
    "model.add(MaxPooling2D(pool_size=(2,2)))\n",
    "model.add(Flatten())\n",
    "model.add(Dense(64, activation=\"relu\"))\n",
    "model.add(Dense(1, activation=\"sigmoid\"))\n",
    "\n",
    "model.compile(optimizer=SGD(lr=0.002, momentum=0.8), loss=\"binary_crossentropy\", metrics=[\"accuracy\"])\n",
    "model.summary()"
   ]
  },
  {
   "cell_type": "code",
   "execution_count": 23,
   "metadata": {},
   "outputs": [
    {
     "name": "stdout",
     "output_type": "stream",
     "text": [
      "Epoch 1/10\n",
      "100/100 [==============================] - 38s 382ms/step - loss: 0.6993 - accuracy: 0.4980 - val_loss: 0.6918 - val_accuracy: 0.5520\n",
      "Epoch 2/10\n",
      "100/100 [==============================] - 35s 352ms/step - loss: 0.6926 - accuracy: 0.5255 - val_loss: 0.6908 - val_accuracy: 0.4860\n",
      "Epoch 3/10\n",
      "100/100 [==============================] - 35s 353ms/step - loss: 0.6900 - accuracy: 0.5230 - val_loss: 0.6713 - val_accuracy: 0.5060\n",
      "Epoch 4/10\n",
      "100/100 [==============================] - 35s 351ms/step - loss: 0.6931 - accuracy: 0.5085 - val_loss: 0.6983 - val_accuracy: 0.5550\n",
      "Epoch 5/10\n",
      "100/100 [==============================] - 35s 352ms/step - loss: 0.6888 - accuracy: 0.5475 - val_loss: 0.7006 - val_accuracy: 0.4900\n",
      "Epoch 6/10\n",
      "100/100 [==============================] - 32s 316ms/step - loss: 0.6859 - accuracy: 0.5450 - val_loss: 0.6609 - val_accuracy: 0.5530\n",
      "Epoch 7/10\n",
      "100/100 [==============================] - 32s 322ms/step - loss: 0.6901 - accuracy: 0.5375 - val_loss: 0.6906 - val_accuracy: 0.5460\n",
      "Epoch 8/10\n",
      "100/100 [==============================] - 32s 324ms/step - loss: 0.6877 - accuracy: 0.5350 - val_loss: 0.7081 - val_accuracy: 0.5710\n",
      "Epoch 9/10\n",
      "100/100 [==============================] - 33s 328ms/step - loss: 0.6848 - accuracy: 0.5500 - val_loss: 0.6885 - val_accuracy: 0.5730\n",
      "Epoch 10/10\n",
      "100/100 [==============================] - 35s 348ms/step - loss: 0.6839 - accuracy: 0.5665 - val_loss: 0.7014 - val_accuracy: 0.5770\n"
     ]
    }
   ],
   "source": [
    "history = model.fit(train_gen, steps_per_epoch=100, epochs=10, validation_data=val_gen, validation_steps=50)"
   ]
  },
  {
   "cell_type": "code",
   "execution_count": 24,
   "metadata": {},
   "outputs": [
    {
     "name": "stdout",
     "output_type": "stream",
     "text": [
      "0.5468 0.68962381118536\n"
     ]
    }
   ],
   "source": [
    "acc_aug = history.history[\"accuracy\"]\n",
    "loss_aug = history.history[\"loss\"]\n",
    "print(np.mean(acc_aug[5:10]), np.mean(loss_aug))"
   ]
  },
  {
   "cell_type": "code",
   "execution_count": null,
   "metadata": {},
   "outputs": [],
   "source": []
  }
 ],
 "metadata": {
  "kernelspec": {
   "display_name": "Python 3",
   "language": "python",
   "name": "python3"
  },
  "language_info": {
   "codemirror_mode": {
    "name": "ipython",
    "version": 3
   },
   "file_extension": ".py",
   "mimetype": "text/x-python",
   "name": "python",
   "nbconvert_exporter": "python",
   "pygments_lexer": "ipython3",
   "version": "3.7.4"
  }
 },
 "nbformat": 4,
 "nbformat_minor": 4
}
