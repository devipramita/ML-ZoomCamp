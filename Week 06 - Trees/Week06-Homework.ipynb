{
 "cells": [
  {
   "cell_type": "markdown",
   "metadata": {},
   "source": [
    "# 6.10 Homework\n",
    "The goal of this homework is to create a tree-based regression model for prediction apartment prices (column 'price').\n",
    "\n",
    "In this homework we'll again use the [New York City Airbnb Open Data](https://www.kaggle.com/dgomonov/new-york-city-airbnb-open-data) dataset - the same one we used in homework 2 and 3.\n",
    "\n",
    "Let's load the data:"
   ]
  },
  {
   "cell_type": "code",
   "execution_count": 57,
   "metadata": {},
   "outputs": [],
   "source": [
    "import pandas as pd\n",
    "import numpy as np\n",
    "import seaborn as sns\n",
    "import matplotlib.pyplot as plt\n",
    "%matplotlib inline\n",
    "import math\n",
    "\n",
    "from sklearn.preprocessing import MinMaxScaler\n",
    "from sklearn.feature_extraction import DictVectorizer\n",
    "from sklearn.model_selection import train_test_split\n",
    "from sklearn.metrics import mutual_info_score, accuracy_score, mean_squared_error, roc_auc_score\n",
    "from sklearn.linear_model import LogisticRegression, Ridge\n",
    "from sklearn.tree import export_text, DecisionTreeRegressor\n",
    "from sklearn.ensemble import RandomForestRegressor\n",
    "import xgboost as xgb"
   ]
  },
  {
   "cell_type": "code",
   "execution_count": 3,
   "metadata": {},
   "outputs": [],
   "source": [
    "columns = [\n",
    "    'neighbourhood_group', 'room_type', 'latitude', 'longitude',\n",
    "    'minimum_nights', 'number_of_reviews','reviews_per_month',\n",
    "    'calculated_host_listings_count', 'availability_365',\n",
    "    'price'\n",
    "]\n",
    "\n",
    "df = pd.read_csv('dataset/AB_NYC_2019.csv', usecols=columns)\n",
    "df.reviews_per_month = df.reviews_per_month.fillna(0)"
   ]
  },
  {
   "cell_type": "markdown",
   "metadata": {},
   "source": [
    "- Apply the log tranform to price\n",
    "- Do train/validation/test split with 60%/20%/20% distribution.\n",
    "- Use the train_test_split function and set the random_state parameter to 1"
   ]
  },
  {
   "cell_type": "code",
   "execution_count": 4,
   "metadata": {},
   "outputs": [
    {
     "data": {
      "text/html": [
       "<div>\n",
       "<style scoped>\n",
       "    .dataframe tbody tr th:only-of-type {\n",
       "        vertical-align: middle;\n",
       "    }\n",
       "\n",
       "    .dataframe tbody tr th {\n",
       "        vertical-align: top;\n",
       "    }\n",
       "\n",
       "    .dataframe thead th {\n",
       "        text-align: right;\n",
       "    }\n",
       "</style>\n",
       "<table border=\"1\" class=\"dataframe\">\n",
       "  <thead>\n",
       "    <tr style=\"text-align: right;\">\n",
       "      <th></th>\n",
       "      <th>neighbourhood_group</th>\n",
       "      <th>latitude</th>\n",
       "      <th>longitude</th>\n",
       "      <th>room_type</th>\n",
       "      <th>price</th>\n",
       "      <th>minimum_nights</th>\n",
       "      <th>number_of_reviews</th>\n",
       "      <th>reviews_per_month</th>\n",
       "      <th>calculated_host_listings_count</th>\n",
       "      <th>availability_365</th>\n",
       "    </tr>\n",
       "  </thead>\n",
       "  <tbody>\n",
       "    <tr>\n",
       "      <td>0</td>\n",
       "      <td>Brooklyn</td>\n",
       "      <td>40.64749</td>\n",
       "      <td>-73.97237</td>\n",
       "      <td>Private room</td>\n",
       "      <td>149</td>\n",
       "      <td>1</td>\n",
       "      <td>9</td>\n",
       "      <td>0.21</td>\n",
       "      <td>6</td>\n",
       "      <td>365</td>\n",
       "    </tr>\n",
       "    <tr>\n",
       "      <td>1</td>\n",
       "      <td>Manhattan</td>\n",
       "      <td>40.75362</td>\n",
       "      <td>-73.98377</td>\n",
       "      <td>Entire home/apt</td>\n",
       "      <td>225</td>\n",
       "      <td>1</td>\n",
       "      <td>45</td>\n",
       "      <td>0.38</td>\n",
       "      <td>2</td>\n",
       "      <td>355</td>\n",
       "    </tr>\n",
       "    <tr>\n",
       "      <td>2</td>\n",
       "      <td>Manhattan</td>\n",
       "      <td>40.80902</td>\n",
       "      <td>-73.94190</td>\n",
       "      <td>Private room</td>\n",
       "      <td>150</td>\n",
       "      <td>3</td>\n",
       "      <td>0</td>\n",
       "      <td>0.00</td>\n",
       "      <td>1</td>\n",
       "      <td>365</td>\n",
       "    </tr>\n",
       "    <tr>\n",
       "      <td>3</td>\n",
       "      <td>Brooklyn</td>\n",
       "      <td>40.68514</td>\n",
       "      <td>-73.95976</td>\n",
       "      <td>Entire home/apt</td>\n",
       "      <td>89</td>\n",
       "      <td>1</td>\n",
       "      <td>270</td>\n",
       "      <td>4.64</td>\n",
       "      <td>1</td>\n",
       "      <td>194</td>\n",
       "    </tr>\n",
       "    <tr>\n",
       "      <td>4</td>\n",
       "      <td>Manhattan</td>\n",
       "      <td>40.79851</td>\n",
       "      <td>-73.94399</td>\n",
       "      <td>Entire home/apt</td>\n",
       "      <td>80</td>\n",
       "      <td>10</td>\n",
       "      <td>9</td>\n",
       "      <td>0.10</td>\n",
       "      <td>1</td>\n",
       "      <td>0</td>\n",
       "    </tr>\n",
       "  </tbody>\n",
       "</table>\n",
       "</div>"
      ],
      "text/plain": [
       "  neighbourhood_group  latitude  longitude        room_type  price  \\\n",
       "0            Brooklyn  40.64749  -73.97237     Private room    149   \n",
       "1           Manhattan  40.75362  -73.98377  Entire home/apt    225   \n",
       "2           Manhattan  40.80902  -73.94190     Private room    150   \n",
       "3            Brooklyn  40.68514  -73.95976  Entire home/apt     89   \n",
       "4           Manhattan  40.79851  -73.94399  Entire home/apt     80   \n",
       "\n",
       "   minimum_nights  number_of_reviews  reviews_per_month  \\\n",
       "0               1                  9               0.21   \n",
       "1               1                 45               0.38   \n",
       "2               3                  0               0.00   \n",
       "3               1                270               4.64   \n",
       "4              10                  9               0.10   \n",
       "\n",
       "   calculated_host_listings_count  availability_365  \n",
       "0                               6               365  \n",
       "1                               2               355  \n",
       "2                               1               365  \n",
       "3                               1               194  \n",
       "4                               1                 0  "
      ]
     },
     "execution_count": 4,
     "metadata": {},
     "output_type": "execute_result"
    }
   ],
   "source": [
    "df.head()"
   ]
  },
  {
   "cell_type": "code",
   "execution_count": 8,
   "metadata": {},
   "outputs": [
    {
     "name": "stdout",
     "output_type": "stream",
     "text": [
      "0.6399836384088352 0.16001636159116475 0.2\n"
     ]
    }
   ],
   "source": [
    "df[\"price\"] = np.log1p(df[\"price\"])\n",
    "\n",
    "X = df.drop([\"price\"], axis=1)\n",
    "y = df[\"price\"]\n",
    "all_X_train, X_test, all_y_train, y_test = train_test_split(X, y, test_size=0.2, random_state=1)\n",
    "X_train, X_val, y_train, y_val = train_test_split(all_X_train, all_y_train, test_size=0.2, random_state=1)\n",
    "print(len(X_train)/len(X), len(X_val)/len(X), len(X_test)/len(X))"
   ]
  },
  {
   "cell_type": "markdown",
   "metadata": {},
   "source": [
    "Now, use DictVectorizer to turn train and validation into matrices:"
   ]
  },
  {
   "cell_type": "code",
   "execution_count": 12,
   "metadata": {},
   "outputs": [],
   "source": [
    "dv = DictVectorizer(sparse=False)\n",
    "\n",
    "train_dict = X_train.to_dict(orient=\"records\")\n",
    "X_train = dv.fit_transform(train_dict)\n",
    "\n",
    "val_dict = X_val.to_dict(orient=\"records\")\n",
    "X_val = dv.transform(val_dict)"
   ]
  },
  {
   "cell_type": "markdown",
   "metadata": {},
   "source": [
    "# Question 1"
   ]
  },
  {
   "cell_type": "markdown",
   "metadata": {},
   "source": [
    "Let's train a decision tree regressor to predict the price variable.\n",
    "\n",
    "- Train a model with max_depth=1"
   ]
  },
  {
   "cell_type": "code",
   "execution_count": 19,
   "metadata": {},
   "outputs": [
    {
     "name": "stdout",
     "output_type": "stream",
     "text": [
      "|--- room_type=Entire home/apt <= 0.50\n",
      "|   |--- value: [1.66]\n",
      "|--- room_type=Entire home/apt >  0.50\n",
      "|   |--- value: [1.81]\n",
      "\n"
     ]
    }
   ],
   "source": [
    "dt = DecisionTreeRegressor(max_depth=1)\n",
    "dt.fit(X_train, y_train)\n",
    "print(export_text(dt, feature_names=dv.get_feature_names()))"
   ]
  },
  {
   "cell_type": "markdown",
   "metadata": {},
   "source": [
    "Which feature is used for splitting the data?\n",
    "\n",
    "- **room_type**\n",
    "- neighbourhood_group\n",
    "- number_of_reviews\n",
    "- reviews_per_month"
   ]
  },
  {
   "cell_type": "markdown",
   "metadata": {},
   "source": [
    "# Question 2"
   ]
  },
  {
   "cell_type": "markdown",
   "metadata": {},
   "source": [
    "Train a random forest model with these parameters:\n",
    "\n",
    "- n_estimators=10\n",
    "- random_state=1\n",
    "- n_jobs=-1 (optional - to make training faster)"
   ]
  },
  {
   "cell_type": "code",
   "execution_count": 23,
   "metadata": {},
   "outputs": [
    {
     "name": "stdout",
     "output_type": "stream",
     "text": [
      "0.082\n"
     ]
    }
   ],
   "source": [
    "rf = RandomForestRegressor(n_estimators=10, random_state=1, n_jobs=-1)\n",
    "rf.fit(X_train, y_train)\n",
    "y_pred = rf.predict(X_val)\n",
    "print(round(math.sqrt(mean_squared_error(y_pred, y_val)), 3))"
   ]
  },
  {
   "cell_type": "markdown",
   "metadata": {},
   "source": [
    "What's the RMSE of this model on validation?\n",
    "\n",
    "- **0.059**\n",
    "- 0.259\n",
    "- 0.459\n",
    "- 0.659"
   ]
  },
  {
   "cell_type": "markdown",
   "metadata": {},
   "source": [
    "# Question 3"
   ]
  },
  {
   "cell_type": "markdown",
   "metadata": {},
   "source": [
    "Now let's experiment with the n_estimators parameter\n",
    "\n",
    "- Try different values of this parameter from 10 to 200 with step 10\n",
    "- Set random_state to 1\n",
    "- Evaluate the model on the validation dataset"
   ]
  },
  {
   "cell_type": "code",
   "execution_count": 24,
   "metadata": {},
   "outputs": [
    {
     "name": "stdout",
     "output_type": "stream",
     "text": [
      "10 0.082\n",
      "20 0.08\n",
      "30 0.08\n",
      "40 0.079\n",
      "50 0.079\n",
      "60 0.079\n",
      "70 0.079\n",
      "80 0.079\n",
      "90 0.079\n",
      "100 0.079\n",
      "110 0.079\n",
      "120 0.079\n",
      "130 0.079\n",
      "140 0.079\n",
      "150 0.079\n",
      "160 0.079\n",
      "170 0.079\n",
      "180 0.079\n",
      "190 0.079\n"
     ]
    }
   ],
   "source": [
    "for n in range(10, 200, 10):\n",
    "    rf = RandomForestRegressor(n_estimators=n, random_state=1, n_jobs=-1)\n",
    "    rf.fit(X_train, y_train)\n",
    "    y_pred = rf.predict(X_val)\n",
    "    print(n, round(math.sqrt(mean_squared_error(y_pred, y_val)), 3))"
   ]
  },
  {
   "cell_type": "markdown",
   "metadata": {},
   "source": [
    "After which value of n_estimators does RMSE stop improving?\n",
    "\n",
    "- 10\n",
    "- **50**\n",
    "- 70\n",
    "- 120"
   ]
  },
  {
   "cell_type": "markdown",
   "metadata": {},
   "source": [
    "# Question 4"
   ]
  },
  {
   "cell_type": "markdown",
   "metadata": {},
   "source": [
    "Let's select the best max_depth:\n",
    "\n",
    "- Try different values of max_depth: [10, 15, 20, 25]\n",
    "- For each of these values, try different values of n_estimators from 10 till 200 (with step 10)\n",
    "- Fix the random seed: random_state=1"
   ]
  },
  {
   "cell_type": "code",
   "execution_count": 26,
   "metadata": {},
   "outputs": [
    {
     "name": "stdout",
     "output_type": "stream",
     "text": [
      "Depth 10\n",
      "10 0.08\n",
      "20 0.079\n",
      "30 0.079\n",
      "40 0.079\n",
      "50 0.079\n",
      "60 0.079\n",
      "70 0.079\n",
      "80 0.079\n",
      "90 0.079\n",
      "100 0.079\n",
      "110 0.079\n",
      "120 0.079\n",
      "130 0.079\n",
      "140 0.079\n",
      "150 0.079\n",
      "160 0.079\n",
      "170 0.079\n",
      "180 0.079\n",
      "190 0.079\n",
      "Depth 15\n",
      "10 0.081\n",
      "20 0.079\n",
      "30 0.079\n",
      "40 0.078\n",
      "50 0.078\n",
      "60 0.078\n",
      "70 0.078\n",
      "80 0.078\n",
      "90 0.078\n",
      "100 0.078\n",
      "110 0.078\n",
      "120 0.078\n",
      "130 0.078\n",
      "140 0.078\n",
      "150 0.078\n",
      "160 0.078\n",
      "170 0.078\n",
      "180 0.078\n",
      "190 0.078\n",
      "Depth 20\n",
      "10 0.082\n",
      "20 0.08\n",
      "30 0.079\n",
      "40 0.079\n",
      "50 0.079\n",
      "60 0.079\n",
      "70 0.079\n",
      "80 0.079\n",
      "90 0.079\n",
      "100 0.079\n",
      "110 0.079\n",
      "120 0.079\n",
      "130 0.078\n",
      "140 0.078\n",
      "150 0.078\n",
      "160 0.078\n",
      "170 0.078\n",
      "180 0.078\n",
      "190 0.078\n",
      "Depth 25\n",
      "10 0.082\n",
      "20 0.08\n",
      "30 0.08\n",
      "40 0.079\n",
      "50 0.079\n",
      "60 0.079\n",
      "70 0.079\n",
      "80 0.079\n",
      "90 0.079\n",
      "100 0.079\n",
      "110 0.079\n",
      "120 0.079\n",
      "130 0.079\n",
      "140 0.079\n",
      "150 0.079\n",
      "160 0.079\n",
      "170 0.079\n",
      "180 0.078\n",
      "190 0.079\n"
     ]
    }
   ],
   "source": [
    "for d in [10, 15, 20, 25]:\n",
    "    print(f\"Depth {d}\")\n",
    "    for n in range(10, 200, 10):\n",
    "        rf = RandomForestRegressor(n_estimators=n, max_depth=d, random_state=1, n_jobs=-1)\n",
    "        rf.fit(X_train, y_train)\n",
    "        y_pred = rf.predict(X_val)\n",
    "        print(n, round(math.sqrt(mean_squared_error(y_pred, y_val)), 3))"
   ]
  },
  {
   "cell_type": "markdown",
   "metadata": {},
   "source": [
    "What's the best max_depth:\n",
    "\n",
    "- 10\n",
    "- **15**\n",
    "- 20\n",
    "- 25\n",
    "\n",
    "Bonus question (not graded):\n",
    "\n",
    "Will the answer be different if we change the seed for the model? **Maybe yes**"
   ]
  },
  {
   "cell_type": "markdown",
   "metadata": {},
   "source": [
    "# Question 5"
   ]
  },
  {
   "cell_type": "markdown",
   "metadata": {},
   "source": [
    "We can extract feature importance information from tree-based models.\n",
    "\n",
    "At each step of the decision tree learning algorith, it finds the best split. When doint it, we can calculate \"gain\" - the reduction in impurity before and after the split. This gain is quite useful in understanding what are the imporatant features for tree-based models.\n",
    "\n",
    "In Scikit-Learn, tree-based models contain this information in the feature_importances_ field.\n",
    "\n",
    "For this homework question, we'll find the most important feature:\n",
    "\n",
    "- Train the model with these parametes:\n",
    "    - n_estimators=10,\n",
    "    - max_depth=20,\n",
    "    - random_state=1,\n",
    "    - n_jobs=-1 (optional)\n",
    "- Get the feature importance information from this model"
   ]
  },
  {
   "cell_type": "code",
   "execution_count": 45,
   "metadata": {},
   "outputs": [
    {
     "data": {
      "text/plain": [
       "neighbourhood_group=Staten Island    0.000141\n",
       "neighbourhood_group=Bronx            0.000264\n",
       "neighbourhood_group=Queens           0.001242\n",
       "neighbourhood_group=Brooklyn         0.001477\n",
       "room_type=Shared room                0.004774\n",
       "room_type=Private room               0.006952\n",
       "calculated_host_listings_count       0.031528\n",
       "neighbourhood_group=Manhattan        0.039664\n",
       "number_of_reviews                    0.045393\n",
       "minimum_nights                       0.049416\n",
       "reviews_per_month                    0.053890\n",
       "availability_365                     0.072485\n",
       "longitude                            0.146144\n",
       "latitude                             0.146741\n",
       "room_type=Entire home/apt            0.399888\n",
       "dtype: float64"
      ]
     },
     "execution_count": 45,
     "metadata": {},
     "output_type": "execute_result"
    }
   ],
   "source": [
    "rf = RandomForestRegressor(n_estimators=10, max_depth=20, random_state=1, n_jobs=-1)\n",
    "rf.fit(X_train, y_train)\n",
    "y_pred = rf.predict(X_val)\n",
    "feature_names = [f'feature {i}' for i in range(df.shape[1])]\n",
    "forest_importances = pd.Series(rf.feature_importances_, index=dv.get_feature_names()).sort_values()\n",
    "forest_importances"
   ]
  },
  {
   "cell_type": "markdown",
   "metadata": {},
   "source": [
    "What's the most important feature?\n",
    "\n",
    "- neighbourhood_group=Manhattan\n",
    "- **room_type=Entire home/apt**\n",
    "- longitude\n",
    "- latitude"
   ]
  },
  {
   "cell_type": "markdown",
   "metadata": {},
   "source": [
    "# Question 6"
   ]
  },
  {
   "cell_type": "markdown",
   "metadata": {},
   "source": [
    "Now let's train an XGBoost model! For this question, we'll tune the eta parameter\n",
    "\n",
    "- Install XGBoost\n",
    "- Create DMatrix for train and validation\n",
    "- Create a watchlist\n",
    "- Train a model with these parameters for 100 rounds:\n",
    "\n",
    "        xgb_params = {\n",
    "            'eta': 0.3, \n",
    "            'max_depth': 6,\n",
    "            'min_child_weight': 1,\n",
    "            'objective': 'reg:squarederror',\n",
    "            'nthread': 8,\n",
    "            'seed': 1,\n",
    "            'verbosity': 1,\n",
    "        }"
   ]
  },
  {
   "cell_type": "code",
   "execution_count": 56,
   "metadata": {},
   "outputs": [
    {
     "data": {
      "text/plain": [
       "46147    1.660640\n",
       "47470    1.595709\n",
       "1905     1.819777\n",
       "2952     1.673489\n",
       "10617    1.685370\n",
       "           ...   \n",
       "2738     1.732356\n",
       "25619    1.657941\n",
       "40278    1.595709\n",
       "17605    1.875710\n",
       "22406    1.855302\n",
       "Name: price, Length: 31292, dtype: float64"
      ]
     },
     "execution_count": 56,
     "metadata": {},
     "output_type": "execute_result"
    }
   ],
   "source": [
    "y_train"
   ]
  },
  {
   "cell_type": "code",
   "execution_count": 64,
   "metadata": {},
   "outputs": [
    {
     "data": {
      "text/plain": [
       "0.03379"
      ]
     },
     "execution_count": 64,
     "metadata": {},
     "output_type": "execute_result"
    }
   ],
   "source": [
    "sc = MinMaxScaler(feature_range=(0,1))\n",
    "sc_y_train = sc.fit_transform(np.expand_dims(y_train, axis=1))\n",
    "sc_y_val = sc.transform(np.expand_dims(y_val, axis=1))\n",
    "\n",
    "features = dv.get_feature_names()\n",
    "dtrain = xgb.DMatrix(X_train, label=sc_y_train, feature_names=features)\n",
    "dval = xgb.DMatrix(X_val, label=sc_y_val, feature_names=features)\n",
    "watchlist = [(dtrain, 'train'), (dval, 'val')]\n",
    "\n",
    "xgb_params = {\n",
    "    'eta': 0.3, \n",
    "    'max_depth': 6,\n",
    "    'min_child_weight': 1,\n",
    "    \n",
    "    'objective': 'binary:logistic',\n",
    "    'nthread': 8,\n",
    "    \n",
    "    'seed': 1,\n",
    "    'verbosity': 1,\n",
    "}\n",
    "\n",
    "model = xgb.train(xgb_params, dtrain, num_boost_round=100)\n",
    "y_pred = model.predict(dval)\n",
    "round(math.sqrt(mean_squared_error(sc_y_val, y_pred)),5)"
   ]
  },
  {
   "cell_type": "markdown",
   "metadata": {},
   "source": [
    "Now change eta first to 0.1 and then to 0.01"
   ]
  },
  {
   "cell_type": "code",
   "execution_count": 65,
   "metadata": {},
   "outputs": [
    {
     "data": {
      "text/plain": [
       "0.03365"
      ]
     },
     "execution_count": 65,
     "metadata": {},
     "output_type": "execute_result"
    }
   ],
   "source": [
    "sc = MinMaxScaler(feature_range=(0,1))\n",
    "sc_y_train = sc.fit_transform(np.expand_dims(y_train, axis=1))\n",
    "sc_y_val = sc.transform(np.expand_dims(y_val, axis=1))\n",
    "\n",
    "features = dv.get_feature_names()\n",
    "dtrain = xgb.DMatrix(X_train, label=sc_y_train, feature_names=features)\n",
    "dval = xgb.DMatrix(X_val, label=sc_y_val, feature_names=features)\n",
    "watchlist = [(dtrain, 'train'), (dval, 'val')]\n",
    "\n",
    "xgb_params = {\n",
    "    'eta': 0.1, \n",
    "    'max_depth': 6,\n",
    "    'min_child_weight': 1,\n",
    "    \n",
    "    'objective': 'binary:logistic',\n",
    "    'nthread': 8,\n",
    "    \n",
    "    'seed': 1,\n",
    "    'verbosity': 1,\n",
    "}\n",
    "\n",
    "model = xgb.train(xgb_params, dtrain, num_boost_round=100)\n",
    "y_pred = model.predict(dval)\n",
    "round(math.sqrt(mean_squared_error(sc_y_val, y_pred)),5)"
   ]
  },
  {
   "cell_type": "code",
   "execution_count": 66,
   "metadata": {},
   "outputs": [
    {
     "data": {
      "text/plain": [
       "0.09913"
      ]
     },
     "execution_count": 66,
     "metadata": {},
     "output_type": "execute_result"
    }
   ],
   "source": [
    "sc = MinMaxScaler(feature_range=(0,1))\n",
    "sc_y_train = sc.fit_transform(np.expand_dims(y_train, axis=1))\n",
    "sc_y_val = sc.transform(np.expand_dims(y_val, axis=1))\n",
    "\n",
    "features = dv.get_feature_names()\n",
    "dtrain = xgb.DMatrix(X_train, label=sc_y_train, feature_names=features)\n",
    "dval = xgb.DMatrix(X_val, label=sc_y_val, feature_names=features)\n",
    "watchlist = [(dtrain, 'train'), (dval, 'val')]\n",
    "\n",
    "xgb_params = {\n",
    "    'eta': 0.01, \n",
    "    'max_depth': 6,\n",
    "    'min_child_weight': 1,\n",
    "    \n",
    "    'objective': 'binary:logistic',\n",
    "    'nthread': 8,\n",
    "    \n",
    "    'seed': 1,\n",
    "    'verbosity': 1,\n",
    "}\n",
    "\n",
    "model = xgb.train(xgb_params, dtrain, num_boost_round=100)\n",
    "y_pred = model.predict(dval)\n",
    "round(math.sqrt(mean_squared_error(sc_y_val, y_pred)),5)"
   ]
  },
  {
   "cell_type": "markdown",
   "metadata": {},
   "source": [
    "What's the best eta?\n",
    "\n",
    "- 0.3\n",
    "- **0.1**\n",
    "- 0.01"
   ]
  },
  {
   "cell_type": "code",
   "execution_count": null,
   "metadata": {},
   "outputs": [],
   "source": []
  }
 ],
 "metadata": {
  "kernelspec": {
   "display_name": "Python 3",
   "language": "python",
   "name": "python3"
  },
  "language_info": {
   "codemirror_mode": {
    "name": "ipython",
    "version": 3
   },
   "file_extension": ".py",
   "mimetype": "text/x-python",
   "name": "python",
   "nbconvert_exporter": "python",
   "pygments_lexer": "ipython3",
   "version": "3.7.4"
  }
 },
 "nbformat": 4,
 "nbformat_minor": 4
}
